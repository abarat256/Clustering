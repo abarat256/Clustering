{
 "cells": [
  {
   "cell_type": "code",
   "execution_count": 2,
   "metadata": {},
   "outputs": [],
   "source": [
    "import pandas as pd\n",
    "import csv"
   ]
  },
  {
   "cell_type": "code",
   "execution_count": 3,
   "metadata": {},
   "outputs": [
    {
     "data": {
      "text/html": [
       "<div>\n",
       "<style scoped>\n",
       "    .dataframe tbody tr th:only-of-type {\n",
       "        vertical-align: middle;\n",
       "    }\n",
       "\n",
       "    .dataframe tbody tr th {\n",
       "        vertical-align: top;\n",
       "    }\n",
       "\n",
       "    .dataframe thead th {\n",
       "        text-align: right;\n",
       "    }\n",
       "</style>\n",
       "<table border=\"1\" class=\"dataframe\">\n",
       "  <thead>\n",
       "    <tr style=\"text-align: right;\">\n",
       "      <th></th>\n",
       "      <th>X</th>\n",
       "      <th>Y</th>\n",
       "      <th>Pred_Val</th>\n",
       "    </tr>\n",
       "  </thead>\n",
       "  <tbody>\n",
       "    <tr>\n",
       "      <th>0</th>\n",
       "      <td>9.802</td>\n",
       "      <td>10.132</td>\n",
       "      <td>1</td>\n",
       "    </tr>\n",
       "    <tr>\n",
       "      <th>1</th>\n",
       "      <td>10.350</td>\n",
       "      <td>9.768</td>\n",
       "      <td>1</td>\n",
       "    </tr>\n",
       "    <tr>\n",
       "      <th>2</th>\n",
       "      <td>10.098</td>\n",
       "      <td>9.988</td>\n",
       "      <td>1</td>\n",
       "    </tr>\n",
       "    <tr>\n",
       "      <th>3</th>\n",
       "      <td>9.730</td>\n",
       "      <td>9.910</td>\n",
       "      <td>1</td>\n",
       "    </tr>\n",
       "    <tr>\n",
       "      <th>4</th>\n",
       "      <td>9.754</td>\n",
       "      <td>10.430</td>\n",
       "      <td>1</td>\n",
       "    </tr>\n",
       "    <tr>\n",
       "      <th>5</th>\n",
       "      <td>9.836</td>\n",
       "      <td>9.902</td>\n",
       "      <td>1</td>\n",
       "    </tr>\n",
       "    <tr>\n",
       "      <th>6</th>\n",
       "      <td>10.238</td>\n",
       "      <td>9.866</td>\n",
       "      <td>1</td>\n",
       "    </tr>\n",
       "    <tr>\n",
       "      <th>7</th>\n",
       "      <td>9.530</td>\n",
       "      <td>9.862</td>\n",
       "      <td>1</td>\n",
       "    </tr>\n",
       "    <tr>\n",
       "      <th>8</th>\n",
       "      <td>10.154</td>\n",
       "      <td>9.820</td>\n",
       "      <td>1</td>\n",
       "    </tr>\n",
       "    <tr>\n",
       "      <th>9</th>\n",
       "      <td>9.336</td>\n",
       "      <td>10.456</td>\n",
       "      <td>1</td>\n",
       "    </tr>\n",
       "  </tbody>\n",
       "</table>\n",
       "</div>"
      ],
      "text/plain": [
       "        X       Y  Pred_Val\n",
       "0   9.802  10.132         1\n",
       "1  10.350   9.768         1\n",
       "2  10.098   9.988         1\n",
       "3   9.730   9.910         1\n",
       "4   9.754  10.430         1\n",
       "5   9.836   9.902         1\n",
       "6  10.238   9.866         1\n",
       "7   9.530   9.862         1\n",
       "8  10.154   9.820         1\n",
       "9   9.336  10.456         1"
      ]
     },
     "execution_count": 3,
     "metadata": {},
     "output_type": "execute_result"
    }
   ],
   "source": [
    "column_names=['X' , 'Y' , 'Pred_Val']\n",
    "r15 = pd.read_csv(\"CSV Files/R15.csv\",skiprows=1, header=None, names=column_names )\n",
    "r15.head(10)"
   ]
  },
  {
   "cell_type": "code",
   "execution_count": 4,
   "metadata": {},
   "outputs": [
    {
     "data": {
      "text/html": [
       "<div>\n",
       "<style scoped>\n",
       "    .dataframe tbody tr th:only-of-type {\n",
       "        vertical-align: middle;\n",
       "    }\n",
       "\n",
       "    .dataframe tbody tr th {\n",
       "        vertical-align: top;\n",
       "    }\n",
       "\n",
       "    .dataframe thead th {\n",
       "        text-align: right;\n",
       "    }\n",
       "</style>\n",
       "<table border=\"1\" class=\"dataframe\">\n",
       "  <thead>\n",
       "    <tr style=\"text-align: right;\">\n",
       "      <th></th>\n",
       "      <th>X</th>\n",
       "      <th>Y</th>\n",
       "    </tr>\n",
       "  </thead>\n",
       "  <tbody>\n",
       "    <tr>\n",
       "      <th>0</th>\n",
       "      <td>9.802</td>\n",
       "      <td>10.132</td>\n",
       "    </tr>\n",
       "    <tr>\n",
       "      <th>1</th>\n",
       "      <td>10.350</td>\n",
       "      <td>9.768</td>\n",
       "    </tr>\n",
       "    <tr>\n",
       "      <th>2</th>\n",
       "      <td>10.098</td>\n",
       "      <td>9.988</td>\n",
       "    </tr>\n",
       "    <tr>\n",
       "      <th>3</th>\n",
       "      <td>9.730</td>\n",
       "      <td>9.910</td>\n",
       "    </tr>\n",
       "    <tr>\n",
       "      <th>4</th>\n",
       "      <td>9.754</td>\n",
       "      <td>10.430</td>\n",
       "    </tr>\n",
       "    <tr>\n",
       "      <th>5</th>\n",
       "      <td>9.836</td>\n",
       "      <td>9.902</td>\n",
       "    </tr>\n",
       "    <tr>\n",
       "      <th>6</th>\n",
       "      <td>10.238</td>\n",
       "      <td>9.866</td>\n",
       "    </tr>\n",
       "    <tr>\n",
       "      <th>7</th>\n",
       "      <td>9.530</td>\n",
       "      <td>9.862</td>\n",
       "    </tr>\n",
       "    <tr>\n",
       "      <th>8</th>\n",
       "      <td>10.154</td>\n",
       "      <td>9.820</td>\n",
       "    </tr>\n",
       "    <tr>\n",
       "      <th>9</th>\n",
       "      <td>9.336</td>\n",
       "      <td>10.456</td>\n",
       "    </tr>\n",
       "  </tbody>\n",
       "</table>\n",
       "</div>"
      ],
      "text/plain": [
       "        X       Y\n",
       "0   9.802  10.132\n",
       "1  10.350   9.768\n",
       "2  10.098   9.988\n",
       "3   9.730   9.910\n",
       "4   9.754  10.430\n",
       "5   9.836   9.902\n",
       "6  10.238   9.866\n",
       "7   9.530   9.862\n",
       "8  10.154   9.820\n",
       "9   9.336  10.456"
      ]
     },
     "execution_count": 4,
     "metadata": {},
     "output_type": "execute_result"
    }
   ],
   "source": [
    "training_set=r15[r15.columns[0:2]]\n",
    "training_set.head(10)"
   ]
  },
  {
   "cell_type": "code",
   "execution_count": 5,
   "metadata": {},
   "outputs": [
    {
     "name": "stdout",
     "output_type": "stream",
     "text": [
      "The purity with K=8 is ::::  0.5333333333333333\n"
     ]
    }
   ],
   "source": [
    "from sklearn.cluster import KMeans\n",
    "import numpy as np\n",
    "from sklearn import metrics\n",
    "kmeans = KMeans(n_clusters=8, init='k-means++', max_iter=300, n_init=10, random_state=0)\n",
    "pred_y = kmeans.fit_predict(training_set)\n",
    "\n",
    "\n",
    "contingency_matrix = metrics.cluster.contingency_matrix(r15['Pred_Val'], pred_y)\n",
    "purity = np.sum(np.amax(contingency_matrix, axis=0)) / np.sum(contingency_matrix)\n",
    "print(\"The purity with K=8 is :::: \", purity)\n"
   ]
  },
  {
   "cell_type": "code",
   "execution_count": 6,
   "metadata": {},
   "outputs": [
    {
     "name": "stdout",
     "output_type": "stream",
     "text": [
      "**********************Varying K from 1 to 20 *********************\n",
      "K \t Purity\n",
      "1 0.06666666666666667\n",
      "2 0.13333333333333333\n",
      "3 0.2\n",
      "4 0.26666666666666666\n",
      "5 0.3333333333333333\n",
      "6 0.4\n",
      "7 0.4666666666666667\n",
      "8 0.5333333333333333\n",
      "9 0.6\n",
      "10 0.6666666666666666\n",
      "11 0.7333333333333333\n",
      "12 0.8\n",
      "13 0.8666666666666667\n",
      "14 0.93\n",
      "15 0.9966666666666667\n",
      "16 0.9966666666666667\n",
      "17 0.9966666666666667\n",
      "18 0.9966666666666667\n",
      "19 0.995\n"
     ]
    },
    {
     "data": {
      "text/plain": [
       "<Figure size 640x480 with 1 Axes>"
      ]
     },
     "metadata": {},
     "output_type": "display_data"
    }
   ],
   "source": [
    "print(\"**********************Varying K from 1 to 20 *********************\")\n",
    "import matplotlib.pyplot as plt\n",
    "k = [None] * 20\n",
    "purity = [None] * 20\n",
    "print(\"K \\t Purity\")\n",
    "for x in range(1,20):\n",
    "    kmeans = KMeans(n_clusters=x, init='k-means++', max_iter=300, n_init=10, random_state=0)\n",
    "    k[x]= x\n",
    "    pred_y = kmeans.fit_predict(training_set)\n",
    "    contingency_matrix = metrics.cluster.contingency_matrix(r15['Pred_Val'], pred_y)\n",
    "    purity[x] = np.sum(np.amax(contingency_matrix, axis=0)) / np.sum(contingency_matrix)\n",
    "    print(k[x] , purity[x] )\n",
    "\n",
    "plt.plot(k, purity )\n",
    "plt.xlabel('K')\n",
    "plt.ylabel('Purity')\n",
    "plt.title('Effect of K on purity')\n",
    "plt.show()\n"
   ]
  },
  {
   "cell_type": "code",
   "execution_count": 7,
   "metadata": {},
   "outputs": [
    {
     "data": {
      "text/html": [
       "<div>\n",
       "<style scoped>\n",
       "    .dataframe tbody tr th:only-of-type {\n",
       "        vertical-align: middle;\n",
       "    }\n",
       "\n",
       "    .dataframe tbody tr th {\n",
       "        vertical-align: top;\n",
       "    }\n",
       "\n",
       "    .dataframe thead th {\n",
       "        text-align: right;\n",
       "    }\n",
       "</style>\n",
       "<table border=\"1\" class=\"dataframe\">\n",
       "  <thead>\n",
       "    <tr style=\"text-align: right;\">\n",
       "      <th></th>\n",
       "      <th>X</th>\n",
       "      <th>Y</th>\n",
       "    </tr>\n",
       "  </thead>\n",
       "  <tbody>\n",
       "    <tr>\n",
       "      <th>0</th>\n",
       "      <td>0.85</td>\n",
       "      <td>17.45</td>\n",
       "    </tr>\n",
       "    <tr>\n",
       "      <th>1</th>\n",
       "      <td>0.75</td>\n",
       "      <td>15.60</td>\n",
       "    </tr>\n",
       "    <tr>\n",
       "      <th>2</th>\n",
       "      <td>3.30</td>\n",
       "      <td>15.45</td>\n",
       "    </tr>\n",
       "    <tr>\n",
       "      <th>3</th>\n",
       "      <td>5.25</td>\n",
       "      <td>14.20</td>\n",
       "    </tr>\n",
       "    <tr>\n",
       "      <th>4</th>\n",
       "      <td>4.90</td>\n",
       "      <td>15.65</td>\n",
       "    </tr>\n",
       "    <tr>\n",
       "      <th>5</th>\n",
       "      <td>5.35</td>\n",
       "      <td>15.85</td>\n",
       "    </tr>\n",
       "    <tr>\n",
       "      <th>6</th>\n",
       "      <td>5.10</td>\n",
       "      <td>17.90</td>\n",
       "    </tr>\n",
       "    <tr>\n",
       "      <th>7</th>\n",
       "      <td>4.60</td>\n",
       "      <td>18.25</td>\n",
       "    </tr>\n",
       "    <tr>\n",
       "      <th>8</th>\n",
       "      <td>4.05</td>\n",
       "      <td>18.75</td>\n",
       "    </tr>\n",
       "    <tr>\n",
       "      <th>9</th>\n",
       "      <td>3.40</td>\n",
       "      <td>19.70</td>\n",
       "    </tr>\n",
       "  </tbody>\n",
       "</table>\n",
       "</div>"
      ],
      "text/plain": [
       "      X      Y\n",
       "0  0.85  17.45\n",
       "1  0.75  15.60\n",
       "2  3.30  15.45\n",
       "3  5.25  14.20\n",
       "4  4.90  15.65\n",
       "5  5.35  15.85\n",
       "6  5.10  17.90\n",
       "7  4.60  18.25\n",
       "8  4.05  18.75\n",
       "9  3.40  19.70"
      ]
     },
     "execution_count": 7,
     "metadata": {},
     "output_type": "execute_result"
    }
   ],
   "source": [
    "jain = pd.read_csv(\"CSV Files/Jain.csv\",skiprows=1, header=None, names=column_names )\n",
    "\n",
    "training_set=jain[jain.columns[0:2]]\n",
    "training_set.head(10)"
   ]
  },
  {
   "cell_type": "code",
   "execution_count": 8,
   "metadata": {},
   "outputs": [
    {
     "name": "stdout",
     "output_type": "stream",
     "text": [
      "The purity with DBSCAN is ::::  0.739946380697051\n"
     ]
    }
   ],
   "source": [
    "from sklearn.cluster import DBSCAN\n",
    "dbscan = DBSCAN(eps=3, min_samples=2)\n",
    "pred_y = dbscan.fit_predict(training_set)\n",
    "\n",
    "\n",
    "contingency_matrix = metrics.cluster.contingency_matrix(jain['Pred_Val'], pred_y)\n",
    "purity = np.sum(np.amax(contingency_matrix, axis=0)) / np.sum(contingency_matrix)\n",
    "print(\"The purity with DBSCAN is :::: \", purity)\n"
   ]
  },
  {
   "cell_type": "code",
   "execution_count": 9,
   "metadata": {},
   "outputs": [
    {
     "name": "stdout",
     "output_type": "stream",
     "text": [
      "**********************Varying min points from 1 to 20*********************\n",
      "Minpoints \t Purity\n",
      "1 0.739946380697051\n",
      "2 0.739946380697051\n",
      "3 0.739946380697051\n",
      "4 0.7426273458445041\n",
      "5 0.7426273458445041\n",
      "6 0.8123324396782842\n",
      "7 0.8150134048257373\n",
      "8 0.8150134048257373\n",
      "9 0.8203753351206434\n",
      "10 0.8203753351206434\n",
      "11 0.839142091152815\n",
      "12 0.8418230563002681\n",
      "13 0.8418230563002681\n",
      "14 0.8471849865951743\n",
      "15 1.0\n",
      "16 0.9946380697050938\n",
      "17 0.9946380697050938\n",
      "18 0.9946380697050938\n",
      "19 0.9946380697050938\n"
     ]
    },
    {
     "data": {
      "image/png": "[encoded data removed]",
      "text/plain": [
       "<Figure size 432x288 with 1 Axes>"
      ]
     },
     "metadata": {
      "needs_background": "light"
     },
     "output_type": "display_data"
    }
   ],
   "source": [
    "print(\"**********************Varying min points from 1 to 20*********************\")\n",
    "minpoints = [None] * 20\n",
    "purity = [None] * 20\n",
    "print(\"Minpoints \\t Purity\")\n",
    "for x in range(1,20):\n",
    "    dbscan = DBSCAN(eps=3, min_samples=x)\n",
    "    minpoints[x]= x\n",
    "    pred_y = dbscan.fit_predict(training_set)\n",
    "    contingency_matrix = metrics.cluster.contingency_matrix(jain['Pred_Val'], pred_y)\n",
    "    purity[x] = np.sum(np.amax(contingency_matrix, axis=0)) / np.sum(contingency_matrix)\n",
    "    print(minpoints[x] , purity[x] )\n",
    "\n",
    "plt.plot(minpoints, purity )\n",
    "plt.xlabel('Minpoints')\n",
    "plt.ylabel('Purity')\n",
    "plt.title('Effect of Minpoints on purity in DBSCAN Algo ::::')\n",
    "plt.show()"
   ]
  },
  {
   "cell_type": "code",
   "execution_count": 10,
   "metadata": {},
   "outputs": [
    {
     "name": "stdout",
     "output_type": "stream",
     "text": [
      "**********************Varying epsillon distance from  from 1 to 20*********************\n",
      "Epsillon \t Purity\n",
      "1 0.9946380697050938\n",
      "2 1.0\n",
      "3 0.739946380697051\n",
      "4 0.739946380697051\n",
      "5 0.739946380697051\n",
      "6 0.739946380697051\n",
      "7 0.739946380697051\n",
      "8 0.739946380697051\n",
      "9 0.739946380697051\n",
      "10 0.739946380697051\n",
      "11 0.739946380697051\n",
      "12 0.739946380697051\n",
      "13 0.739946380697051\n",
      "14 0.739946380697051\n",
      "15 0.739946380697051\n",
      "16 0.739946380697051\n",
      "17 0.739946380697051\n",
      "18 0.739946380697051\n",
      "19 0.739946380697051\n"
     ]
    },
    {
     "data": {
      "image/png": "[encoded data removed]",
      "text/plain": [
       "<Figure size 432x288 with 1 Axes>"
      ]
     },
     "metadata": {
      "needs_background": "light"
     },
     "output_type": "display_data"
    }
   ],
   "source": [
    "print(\"**********************Varying epsillon distance from  from 1 to 20*********************\")\n",
    "epsillon = [None] * 20\n",
    "purity = [None] * 20\n",
    "print(\"Epsillon \\t Purity\")\n",
    "for x in range(1,20):\n",
    "    dbscan = DBSCAN(eps=x, min_samples=3)\n",
    "    epsillon[x]= x\n",
    "    pred_y = dbscan.fit_predict(training_set)\n",
    "    contingency_matrix = metrics.cluster.contingency_matrix(jain['Pred_Val'], pred_y)\n",
    "    purity[x] = np.sum(np.amax(contingency_matrix, axis=0)) / np.sum(contingency_matrix)\n",
    "    print(epsillon[x] , purity[x] )\n",
    "\n",
    "plt.plot(epsillon, purity )\n",
    "plt.xlabel('Epsillon Distance')\n",
    "plt.ylabel('Purity')\n",
    "plt.title('Effect of Epsillon Distance on purity in DBSCAN Algo ::::')\n",
    "plt.show()"
   ]
  },
  {
   "cell_type": "code",
   "execution_count": null,
   "metadata": {},
   "outputs": [],
   "source": []
  }
 ],
 "metadata": {
  "kernelspec": {
   "display_name": "Python 3",
   "language": "python",
   "name": "python3"
  },
  "language_info": {
   "codemirror_mode": {
    "name": "ipython",
    "version": 3
   },
   "file_extension": ".py",
   "mimetype": "text/x-python",
   "name": "python",
   "nbconvert_exporter": "python",
   "pygments_lexer": "ipython3",
   "version": "3.7.3"
  }
 },
 "nbformat": 4,
 "nbformat_minor": 2
}
